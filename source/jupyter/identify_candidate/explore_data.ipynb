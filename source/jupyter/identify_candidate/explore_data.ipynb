{
 "cells": [
  {
   "cell_type": "code",
   "execution_count": 37,
   "metadata": {},
   "outputs": [],
   "source": [
    "import pandas as pd\n",
    "from sklearn.feature_extraction.text import CountVectorizer,TfidfVectorizer,TfidfTransformer\n",
    "from sklearn.decomposition import LatentDirichletAllocation\n",
    "import numpy as np\n",
    "import matplotlib.pyplot as plt"
   ]
  },
  {
   "cell_type": "code",
   "execution_count": 38,
   "metadata": {},
   "outputs": [],
   "source": [
    "csv_file_path = '/home/lucas/UFOP/ple_2020/analise_midias_sociais/final-work/data/all_candidates_posts_with_identificator.csv'\n",
    "df_candidates = pd.read_csv(csv_file_path,encoding = 'utf-8')"
   ]
  },
  {
   "cell_type": "code",
   "execution_count": 39,
   "metadata": {},
   "outputs": [],
   "source": [
    "# convertendo o tipo data que esta como string em objeto no formato data\n",
    "df_candidates[\"created_time\"] = pd.to_datetime(df_candidates['created_time'])"
   ]
  },
  {
   "cell_type": "code",
   "execution_count": 40,
   "metadata": {
    "scrolled": true
   },
   "outputs": [
    {
     "data": {
      "text/html": [
       "<div>\n",
       "<style scoped>\n",
       "    .dataframe tbody tr th:only-of-type {\n",
       "        vertical-align: middle;\n",
       "    }\n",
       "\n",
       "    .dataframe tbody tr th {\n",
       "        vertical-align: top;\n",
       "    }\n",
       "\n",
       "    .dataframe thead th {\n",
       "        text-align: right;\n",
       "    }\n",
       "</style>\n",
       "<table border=\"1\" class=\"dataframe\">\n",
       "  <thead>\n",
       "    <tr style=\"text-align: right;\">\n",
       "      <th></th>\n",
       "      <th>created_time</th>\n",
       "      <th>id</th>\n",
       "      <th>pre_processed_message</th>\n",
       "      <th>message_min_processed</th>\n",
       "      <th>shares</th>\n",
       "      <th>status_type</th>\n",
       "      <th>full_picture</th>\n",
       "      <th>reactions_like</th>\n",
       "      <th>reactions_haha</th>\n",
       "      <th>reactions_wow</th>\n",
       "      <th>reactions_sad</th>\n",
       "      <th>reactions_angry</th>\n",
       "      <th>reactions_love</th>\n",
       "      <th>has_textual_message</th>\n",
       "      <th>author</th>\n",
       "    </tr>\n",
       "  </thead>\n",
       "  <tbody>\n",
       "    <tr>\n",
       "      <th>0</th>\n",
       "      <td>2019-03-16 21:15:50+00:00</td>\n",
       "      <td>96033897836_10158944569272837</td>\n",
       "      <td>hoje lu comemoramos anos casados ainda apaixon...</td>\n",
       "      <td>hoje lu e eu comemoramos 40 anos de casados ai...</td>\n",
       "      <td>344</td>\n",
       "      <td>added_photos</td>\n",
       "      <td>https://scontent.fplu2-1.fna.fbcdn.net/v/t1.0-...</td>\n",
       "      <td>15515</td>\n",
       "      <td>21</td>\n",
       "      <td>109</td>\n",
       "      <td>2</td>\n",
       "      <td>10</td>\n",
       "      <td>1524</td>\n",
       "      <td>True</td>\n",
       "      <td>alckmin</td>\n",
       "    </tr>\n",
       "    <tr>\n",
       "      <th>1</th>\n",
       "      <td>2019-03-13 22:09:50+00:00</td>\n",
       "      <td>96033897836_10158937268622837</td>\n",
       "      <td>alunos funcionarios fuzilados escola publica d...</td>\n",
       "      <td>alunos e funcionarios fuzilados em uma escola ...</td>\n",
       "      <td>120</td>\n",
       "      <td>mobile_status_update</td>\n",
       "      <td>None</td>\n",
       "      <td>2606</td>\n",
       "      <td>2</td>\n",
       "      <td>2</td>\n",
       "      <td>547</td>\n",
       "      <td>6</td>\n",
       "      <td>92</td>\n",
       "      <td>True</td>\n",
       "      <td>alckmin</td>\n",
       "    </tr>\n",
       "    <tr>\n",
       "      <th>2</th>\n",
       "      <td>2019-02-27 13:04:22+00:00</td>\n",
       "      <td>96033897836_10158899426707837</td>\n",
       "      <td>nasceu mateo terceiro filho sophia mario herdo...</td>\n",
       "      <td>nasceu mateo terceiro filho da sophia e do mar...</td>\n",
       "      <td>201</td>\n",
       "      <td>added_photos</td>\n",
       "      <td>https://scontent.fplu2-1.fna.fbcdn.net/v/t1.0-...</td>\n",
       "      <td>7960</td>\n",
       "      <td>32</td>\n",
       "      <td>22</td>\n",
       "      <td>1</td>\n",
       "      <td>2</td>\n",
       "      <td>712</td>\n",
       "      <td>True</td>\n",
       "      <td>alckmin</td>\n",
       "    </tr>\n",
       "    <tr>\n",
       "      <th>3</th>\n",
       "      <td>2019-01-25 23:02:43+00:00</td>\n",
       "      <td>96033897836_10158806072577837</td>\n",
       "      <td>solidariedade familias povo mineiro pensamento...</td>\n",
       "      <td>minha solidariedade com as familias e com o po...</td>\n",
       "      <td>27</td>\n",
       "      <td>mobile_status_update</td>\n",
       "      <td>None</td>\n",
       "      <td>1046</td>\n",
       "      <td>1</td>\n",
       "      <td>1</td>\n",
       "      <td>105</td>\n",
       "      <td>1</td>\n",
       "      <td>38</td>\n",
       "      <td>True</td>\n",
       "      <td>alckmin</td>\n",
       "    </tr>\n",
       "    <tr>\n",
       "      <th>4</th>\n",
       "      <td>2018-11-09 00:21:08+00:00</td>\n",
       "      <td>96033897836_10158590520182837</td>\n",
       "      <td>celebrando vida familia agradeco todos felicit...</td>\n",
       "      <td>celebrando a vida com a familia . agradeco a t...</td>\n",
       "      <td>108</td>\n",
       "      <td>added_photos</td>\n",
       "      <td>https://scontent.fplu2-1.fna.fbcdn.net/v/t1.0-...</td>\n",
       "      <td>3485</td>\n",
       "      <td>17</td>\n",
       "      <td>8</td>\n",
       "      <td>0</td>\n",
       "      <td>3</td>\n",
       "      <td>306</td>\n",
       "      <td>True</td>\n",
       "      <td>alckmin</td>\n",
       "    </tr>\n",
       "    <tr>\n",
       "      <th>5</th>\n",
       "      <td>2018-10-30 01:28:15+00:00</td>\n",
       "      <td>96033897836_10158561677027837</td>\n",
       "      <td>comecou mal defesa liberdade ficou discurso on...</td>\n",
       "      <td>comecou mal . a defesa da liberdade ficou no d...</td>\n",
       "      <td>5174</td>\n",
       "      <td>mobile_status_update</td>\n",
       "      <td>None</td>\n",
       "      <td>14222</td>\n",
       "      <td>2279</td>\n",
       "      <td>108</td>\n",
       "      <td>208</td>\n",
       "      <td>638</td>\n",
       "      <td>1528</td>\n",
       "      <td>True</td>\n",
       "      <td>alckmin</td>\n",
       "    </tr>\n",
       "    <tr>\n",
       "      <th>6</th>\n",
       "      <td>2018-10-29 00:56:57+00:00</td>\n",
       "      <td>96033897836_10158558725992837</td>\n",
       "      <td>hora felicitar todos eleitos faco pessoa presi...</td>\n",
       "      <td>e hora de felicitar todos os eleitos e o faco ...</td>\n",
       "      <td>1031</td>\n",
       "      <td>mobile_status_update</td>\n",
       "      <td>None</td>\n",
       "      <td>10482</td>\n",
       "      <td>98</td>\n",
       "      <td>22</td>\n",
       "      <td>7</td>\n",
       "      <td>18</td>\n",
       "      <td>780</td>\n",
       "      <td>True</td>\n",
       "      <td>alckmin</td>\n",
       "    </tr>\n",
       "    <tr>\n",
       "      <th>7</th>\n",
       "      <td>2018-10-10 20:33:56+00:00</td>\n",
       "      <td>96033897836_10158506125162837</td>\n",
       "      <td>ouvimos ontem todo partido decidimos liberar m...</td>\n",
       "      <td>ouvimos ontem todo o partido e decidimos liber...</td>\n",
       "      <td>193</td>\n",
       "      <td>added_photos</td>\n",
       "      <td>https://scontent.fplu2-1.fna.fbcdn.net/v/t1.0-...</td>\n",
       "      <td>2112</td>\n",
       "      <td>55</td>\n",
       "      <td>18</td>\n",
       "      <td>26</td>\n",
       "      <td>251</td>\n",
       "      <td>225</td>\n",
       "      <td>True</td>\n",
       "      <td>alckmin</td>\n",
       "    </tr>\n",
       "    <tr>\n",
       "      <th>8</th>\n",
       "      <td>2018-10-08 15:25:15+00:00</td>\n",
       "      <td>96033897836_10158499514447837</td>\n",
       "      <td>obrigado todos acreditaram projeto depositaram...</td>\n",
       "      <td>obrigado a todos que acreditaram em nosso proj...</td>\n",
       "      <td>402</td>\n",
       "      <td>added_photos</td>\n",
       "      <td>https://scontent.fplu2-1.fna.fbcdn.net/v/t1.0-...</td>\n",
       "      <td>7401</td>\n",
       "      <td>128</td>\n",
       "      <td>9</td>\n",
       "      <td>434</td>\n",
       "      <td>19</td>\n",
       "      <td>615</td>\n",
       "      <td>True</td>\n",
       "      <td>alckmin</td>\n",
       "    </tr>\n",
       "    <tr>\n",
       "      <th>9</th>\n",
       "      <td>2018-10-07 00:00:01+00:00</td>\n",
       "      <td>96033897836_10158493056542837</td>\n",
       "      <td>domingo vai escolher presidente voto ajudara d...</td>\n",
       "      <td>domingo voce vai escolher muito mais do que um...</td>\n",
       "      <td>383</td>\n",
       "      <td>added_video</td>\n",
       "      <td>https://scontent.fplu2-1.fna.fbcdn.net/v/t15.5...</td>\n",
       "      <td>1935</td>\n",
       "      <td>96</td>\n",
       "      <td>7</td>\n",
       "      <td>3</td>\n",
       "      <td>20</td>\n",
       "      <td>176</td>\n",
       "      <td>True</td>\n",
       "      <td>alckmin</td>\n",
       "    </tr>\n",
       "    <tr>\n",
       "      <th>10</th>\n",
       "      <td>2018-10-06 22:00:01+00:00</td>\n",
       "      <td>96033897836_10158493148807837</td>\n",
       "      <td>pronto pra trabalhar pronto pra resolver mostr...</td>\n",
       "      <td>pronto pra trabalhar pronto pra resolver ja mo...</td>\n",
       "      <td>659</td>\n",
       "      <td>added_video</td>\n",
       "      <td>https://scontent.fplu2-1.fna.fbcdn.net/v/t15.1...</td>\n",
       "      <td>1979</td>\n",
       "      <td>88</td>\n",
       "      <td>5</td>\n",
       "      <td>2</td>\n",
       "      <td>25</td>\n",
       "      <td>164</td>\n",
       "      <td>True</td>\n",
       "      <td>alckmin</td>\n",
       "    </tr>\n",
       "    <tr>\n",
       "      <th>11</th>\n",
       "      <td>2018-10-06 20:02:45+00:00</td>\n",
       "      <td>96033897836_10158493633712837</td>\n",
       "      <td>geraldo recado pra geraldopresidente anaamelia...</td>\n",
       "      <td># geraldo45 tem um recado pra voce ! # geraldo...</td>\n",
       "      <td>903</td>\n",
       "      <td>added_video</td>\n",
       "      <td>https://scontent.fplu2-1.fna.fbcdn.net/v/t15.5...</td>\n",
       "      <td>3130</td>\n",
       "      <td>111</td>\n",
       "      <td>14</td>\n",
       "      <td>7</td>\n",
       "      <td>96</td>\n",
       "      <td>289</td>\n",
       "      <td>True</td>\n",
       "      <td>alckmin</td>\n",
       "    </tr>\n",
       "    <tr>\n",
       "      <th>12</th>\n",
       "      <td>2018-10-06 19:00:57+00:00</td>\n",
       "      <td>96033897836_2117760365151531</td>\n",
       "      <td>brasil pressa pode errar confira alguns muitos...</td>\n",
       "      <td>o brasil tem pressa e nao pode errar . confira...</td>\n",
       "      <td>709</td>\n",
       "      <td>added_video</td>\n",
       "      <td>https://scontent.fplu2-1.fna.fbcdn.net/v/t15.5...</td>\n",
       "      <td>1858</td>\n",
       "      <td>39</td>\n",
       "      <td>8</td>\n",
       "      <td>10</td>\n",
       "      <td>77</td>\n",
       "      <td>407</td>\n",
       "      <td>True</td>\n",
       "      <td>alckmin</td>\n",
       "    </tr>\n",
       "    <tr>\n",
       "      <th>13</th>\n",
       "      <td>2018-10-06 16:00:01+00:00</td>\n",
       "      <td>96033897836_10158492870367837</td>\n",
       "      <td>projeto mudar unir brasil quer pais pacificado...</td>\n",
       "      <td>um projeto para mudar e unir o brasil ! se voc...</td>\n",
       "      <td>463</td>\n",
       "      <td>added_photos</td>\n",
       "      <td>https://scontent.fplu2-1.fna.fbcdn.net/v/t1.0-...</td>\n",
       "      <td>2304</td>\n",
       "      <td>63</td>\n",
       "      <td>2</td>\n",
       "      <td>1</td>\n",
       "      <td>8</td>\n",
       "      <td>128</td>\n",
       "      <td>True</td>\n",
       "      <td>alckmin</td>\n",
       "    </tr>\n",
       "    <tr>\n",
       "      <th>14</th>\n",
       "      <td>2018-10-06 13:00:00+00:00</td>\n",
       "      <td>96033897836_10158490587077837</td>\n",
       "      <td>quer bom motivo votar geraldo alckmin gente co...</td>\n",
       "      <td>quer um bom motivo para votar em geraldo alckm...</td>\n",
       "      <td>278</td>\n",
       "      <td>added_photos</td>\n",
       "      <td>https://scontent.fplu2-1.fna.fbcdn.net/v/t1.0-...</td>\n",
       "      <td>1038</td>\n",
       "      <td>23</td>\n",
       "      <td>0</td>\n",
       "      <td>1</td>\n",
       "      <td>2</td>\n",
       "      <td>74</td>\n",
       "      <td>True</td>\n",
       "      <td>alckmin</td>\n",
       "    </tr>\n",
       "  </tbody>\n",
       "</table>\n",
       "</div>"
      ],
      "text/plain": [
       "                created_time                             id  \\\n",
       "0  2019-03-16 21:15:50+00:00  96033897836_10158944569272837   \n",
       "1  2019-03-13 22:09:50+00:00  96033897836_10158937268622837   \n",
       "2  2019-02-27 13:04:22+00:00  96033897836_10158899426707837   \n",
       "3  2019-01-25 23:02:43+00:00  96033897836_10158806072577837   \n",
       "4  2018-11-09 00:21:08+00:00  96033897836_10158590520182837   \n",
       "5  2018-10-30 01:28:15+00:00  96033897836_10158561677027837   \n",
       "6  2018-10-29 00:56:57+00:00  96033897836_10158558725992837   \n",
       "7  2018-10-10 20:33:56+00:00  96033897836_10158506125162837   \n",
       "8  2018-10-08 15:25:15+00:00  96033897836_10158499514447837   \n",
       "9  2018-10-07 00:00:01+00:00  96033897836_10158493056542837   \n",
       "10 2018-10-06 22:00:01+00:00  96033897836_10158493148807837   \n",
       "11 2018-10-06 20:02:45+00:00  96033897836_10158493633712837   \n",
       "12 2018-10-06 19:00:57+00:00   96033897836_2117760365151531   \n",
       "13 2018-10-06 16:00:01+00:00  96033897836_10158492870367837   \n",
       "14 2018-10-06 13:00:00+00:00  96033897836_10158490587077837   \n",
       "\n",
       "                                pre_processed_message  \\\n",
       "0   hoje lu comemoramos anos casados ainda apaixon...   \n",
       "1   alunos funcionarios fuzilados escola publica d...   \n",
       "2   nasceu mateo terceiro filho sophia mario herdo...   \n",
       "3   solidariedade familias povo mineiro pensamento...   \n",
       "4   celebrando vida familia agradeco todos felicit...   \n",
       "5   comecou mal defesa liberdade ficou discurso on...   \n",
       "6   hora felicitar todos eleitos faco pessoa presi...   \n",
       "7   ouvimos ontem todo partido decidimos liberar m...   \n",
       "8   obrigado todos acreditaram projeto depositaram...   \n",
       "9   domingo vai escolher presidente voto ajudara d...   \n",
       "10  pronto pra trabalhar pronto pra resolver mostr...   \n",
       "11  geraldo recado pra geraldopresidente anaamelia...   \n",
       "12  brasil pressa pode errar confira alguns muitos...   \n",
       "13  projeto mudar unir brasil quer pais pacificado...   \n",
       "14  quer bom motivo votar geraldo alckmin gente co...   \n",
       "\n",
       "                                message_min_processed  shares  \\\n",
       "0   hoje lu e eu comemoramos 40 anos de casados ai...     344   \n",
       "1   alunos e funcionarios fuzilados em uma escola ...     120   \n",
       "2   nasceu mateo terceiro filho da sophia e do mar...     201   \n",
       "3   minha solidariedade com as familias e com o po...      27   \n",
       "4   celebrando a vida com a familia . agradeco a t...     108   \n",
       "5   comecou mal . a defesa da liberdade ficou no d...    5174   \n",
       "6   e hora de felicitar todos os eleitos e o faco ...    1031   \n",
       "7   ouvimos ontem todo o partido e decidimos liber...     193   \n",
       "8   obrigado a todos que acreditaram em nosso proj...     402   \n",
       "9   domingo voce vai escolher muito mais do que um...     383   \n",
       "10  pronto pra trabalhar pronto pra resolver ja mo...     659   \n",
       "11  # geraldo45 tem um recado pra voce ! # geraldo...     903   \n",
       "12  o brasil tem pressa e nao pode errar . confira...     709   \n",
       "13  um projeto para mudar e unir o brasil ! se voc...     463   \n",
       "14  quer um bom motivo para votar em geraldo alckm...     278   \n",
       "\n",
       "             status_type                                       full_picture  \\\n",
       "0           added_photos  https://scontent.fplu2-1.fna.fbcdn.net/v/t1.0-...   \n",
       "1   mobile_status_update                                               None   \n",
       "2           added_photos  https://scontent.fplu2-1.fna.fbcdn.net/v/t1.0-...   \n",
       "3   mobile_status_update                                               None   \n",
       "4           added_photos  https://scontent.fplu2-1.fna.fbcdn.net/v/t1.0-...   \n",
       "5   mobile_status_update                                               None   \n",
       "6   mobile_status_update                                               None   \n",
       "7           added_photos  https://scontent.fplu2-1.fna.fbcdn.net/v/t1.0-...   \n",
       "8           added_photos  https://scontent.fplu2-1.fna.fbcdn.net/v/t1.0-...   \n",
       "9            added_video  https://scontent.fplu2-1.fna.fbcdn.net/v/t15.5...   \n",
       "10           added_video  https://scontent.fplu2-1.fna.fbcdn.net/v/t15.1...   \n",
       "11           added_video  https://scontent.fplu2-1.fna.fbcdn.net/v/t15.5...   \n",
       "12           added_video  https://scontent.fplu2-1.fna.fbcdn.net/v/t15.5...   \n",
       "13          added_photos  https://scontent.fplu2-1.fna.fbcdn.net/v/t1.0-...   \n",
       "14          added_photos  https://scontent.fplu2-1.fna.fbcdn.net/v/t1.0-...   \n",
       "\n",
       "    reactions_like  reactions_haha  reactions_wow  reactions_sad  \\\n",
       "0            15515              21            109              2   \n",
       "1             2606               2              2            547   \n",
       "2             7960              32             22              1   \n",
       "3             1046               1              1            105   \n",
       "4             3485              17              8              0   \n",
       "5            14222            2279            108            208   \n",
       "6            10482              98             22              7   \n",
       "7             2112              55             18             26   \n",
       "8             7401             128              9            434   \n",
       "9             1935              96              7              3   \n",
       "10            1979              88              5              2   \n",
       "11            3130             111             14              7   \n",
       "12            1858              39              8             10   \n",
       "13            2304              63              2              1   \n",
       "14            1038              23              0              1   \n",
       "\n",
       "    reactions_angry  reactions_love  has_textual_message   author  \n",
       "0                10            1524                 True  alckmin  \n",
       "1                 6              92                 True  alckmin  \n",
       "2                 2             712                 True  alckmin  \n",
       "3                 1              38                 True  alckmin  \n",
       "4                 3             306                 True  alckmin  \n",
       "5               638            1528                 True  alckmin  \n",
       "6                18             780                 True  alckmin  \n",
       "7               251             225                 True  alckmin  \n",
       "8                19             615                 True  alckmin  \n",
       "9                20             176                 True  alckmin  \n",
       "10               25             164                 True  alckmin  \n",
       "11               96             289                 True  alckmin  \n",
       "12               77             407                 True  alckmin  \n",
       "13                8             128                 True  alckmin  \n",
       "14                2              74                 True  alckmin  "
      ]
     },
     "execution_count": 40,
     "metadata": {},
     "output_type": "execute_result"
    }
   ],
   "source": [
    "df_candidates.head(15)"
   ]
  },
  {
   "cell_type": "code",
   "execution_count": 41,
   "metadata": {},
   "outputs": [
    {
     "name": "stdout",
     "output_type": "stream",
     "text": [
      "número total de posts: 21361\n"
     ]
    }
   ],
   "source": [
    "n_total_posts = len(df_candidates)\n",
    "print('número total de posts: {0}'.format(str(n_total_posts)))"
   ]
  },
  {
   "cell_type": "code",
   "execution_count": 42,
   "metadata": {},
   "outputs": [
    {
     "name": "stdout",
     "output_type": "stream",
     "text": [
      "número de posts com mensagens textuais: 19589\n",
      "número de posts sem mensagens textuais: 1772\n"
     ]
    }
   ],
   "source": [
    "n_posts_with_textual_messages = df_candidates[df_candidates.has_textual_message == True].shape[0]\n",
    "n_posts_without_textual_messages = df_candidates[df_candidates.has_textual_message == False].shape[0]\n",
    "\n",
    "print('número de posts com mensagens textuais: {0}'.format(str(n_posts_with_textual_messages)))\n",
    "print('número de posts sem mensagens textuais: {0}'.format(str(n_posts_without_textual_messages)))"
   ]
  },
  {
   "cell_type": "code",
   "execution_count": 105,
   "metadata": {
    "scrolled": true
   },
   "outputs": [
    {
     "name": "stdout",
     "output_type": "stream",
     "text": [
      "\n",
      "===Keywords=== (todos os posts de todos os candidatos no período analisado)\n",
      "brasil 0.209\n",
      "hoje 0.156\n",
      "governo 0.137\n",
      "paulo 0.128\n",
      "novo 0.125\n",
      "pais 0.123\n",
      "todos 0.12\n",
      "ser 0.111\n",
      "estado 0.105\n",
      "bolsonaro 0.104\n"
     ]
    }
   ],
   "source": [
    "#============================================================================================\n",
    "# realizando o tf idf no df['pre_processed_message'] do corpus inteiro\n",
    "#============================================================================================\n",
    "\n",
    "# tf idf é uma medida estatística que tem o intuito de indicar a importância de uma palavra \n",
    "# de um documento em relação a uma coleção de documentos ou em um corpus linguístico.\n",
    "\n",
    "def sort_columns(coo_matrix):\n",
    "    tuples = zip(coo_matrix.col, coo_matrix.data)\n",
    "    return sorted(tuples, key=lambda x: (x[1], x[0]), reverse=True)\n",
    "\n",
    "\n",
    "def extract_top_n_from_vector(feature_names, sorted_items, topn=10):\n",
    "    \"\"\"get the feature names and tf-idf score of top n items\"\"\"\n",
    "    sorted_items = sorted_items[:topn]\n",
    "    score_vals = []\n",
    "    feature_vals = []\n",
    "    # word index and corresponding tf-idf score\n",
    "    for idx, score in sorted_items:\n",
    "        score_vals.append(round(score, 3))\n",
    "        feature_vals.append(feature_names[idx])\n",
    "    results= {}\n",
    "    for idx in range(len(feature_vals)):\n",
    "        results[feature_vals[idx]]=score_vals[idx]\n",
    "    return results\n",
    "\n",
    "cv = CountVectorizer()\n",
    "\n",
    "word_count_vector=cv.fit_transform(df_candidates['pre_processed_message'])\n",
    "\n",
    "tfidf_transformer=TfidfTransformer(smooth_idf=True,use_idf=True)\n",
    "tfidf_transformer.fit(word_count_vector)\n",
    "\n",
    "# you only needs to do this once, this is a mapping of index to \n",
    "feature_names=cv.get_feature_names()\n",
    "\n",
    "# get the document that we want to extract keywords from\n",
    "corpus=' '.join(df_candidates['pre_processed_message'])\n",
    "\n",
    "#generate tf-idf for the given document\n",
    "tf_idf_vector=tfidf_transformer.transform(cv.transform([corpus]))\n",
    "\n",
    "#sort the tf-idf vectors by descending order of scores\n",
    "sorted_items=sort_columns(tf_idf_vector.tocoo())\n",
    "\n",
    "#extract only the top n; n here is 10\n",
    "keywords=extract_top_n_from_vector(feature_names,sorted_items,10)\n",
    "\n",
    "print(\"\\n===Keywords=== (todos os posts de todos os candidatos no período analisado)\")\n",
    "for key in keywords:\n",
    "    print(key,keywords[key])"
   ]
  },
  {
   "cell_type": "code",
   "execution_count": 46,
   "metadata": {},
   "outputs": [],
   "source": [
    "def get_top_n_words(n_top_words, count_vectorizer, text_data):\n",
    "    '''\n",
    "    returns a tuple of the top n words in a sample and their \n",
    "    accompanying counts, given a CountVectorizer object and text sample\n",
    "    '''\n",
    "    vectorized_headlines = count_vectorizer.fit_transform(text_data.values)\n",
    "    vectorized_total = np.sum(vectorized_headlines, axis=0)\n",
    "    word_indices = np.flip(np.argsort(vectorized_total)[0,:], 1)\n",
    "    word_values = np.flip(np.sort(vectorized_total)[0,:],1)\n",
    "    \n",
    "    word_vectors = np.zeros((n_top_words, vectorized_headlines.shape[1]))\n",
    "    for i in range(n_top_words):\n",
    "        word_vectors[i,word_indices[0,i]] = 1\n",
    "\n",
    "    words = [word[0].encode('ascii').decode('utf-8') for \n",
    "             word in count_vectorizer.inverse_transform(word_vectors)]\n",
    "\n",
    "    return (words, word_values[0,:n_top_words].tolist()[0])"
   ]
  },
  {
   "cell_type": "code",
   "execution_count": 104,
   "metadata": {
    "scrolled": true
   },
   "outputs": [
    {
     "name": "stdout",
     "output_type": "stream",
     "text": [
      "brasil : 4535\n",
      "hoje : 3117\n",
      "governo : 2291\n",
      "paulo : 2233\n",
      "pais : 2079\n",
      "todos : 2060\n",
      "novo : 2040\n",
      "ser : 1776\n",
      "estado : 1674\n",
      "dia : 1668\n",
      "bolsonaro : 1636\n",
      "vamos : 1471\n",
      "marina : 1465\n",
      "politica : 1440\n",
      "contra : 1436\n"
     ]
    },
    {
     "data": {
      "image/png": "[encoded data removed]",
      "text/plain": [
       "<Figure size 1152x576 with 1 Axes>"
      ]
     },
     "metadata": {
      "needs_background": "light"
     },
     "output_type": "display_data"
    }
   ],
   "source": [
    "#=======================================================================\n",
    "# visualização das top palavras de todos os candidatos\n",
    "#=======================================================================\n",
    "\n",
    "count_vectorizer = CountVectorizer()\n",
    "words, word_values = get_top_n_words(n_top_words=15,\n",
    "                                     count_vectorizer=count_vectorizer, \n",
    "                                     text_data=df_candidates['pre_processed_message'])\n",
    "\n",
    "for index in range(len(word_values)):\n",
    "    print('{0} : {1}'.format(str(words[index]),str(word_values[index])))\n",
    "    \n",
    "fig, ax = plt.subplots(figsize=(16,8))\n",
    "ax.bar(range(len(words)), word_values);\n",
    "ax.set_xticks(range(len(words)));\n",
    "ax.set_xticklabels(words, rotation='vertical');\n",
    "ax.set_title('Palavras com mais ocorrências após o processamento total(todos os candidatos analisados)');\n",
    "ax.set_xlabel('Palavra');\n",
    "ax.set_ylabel('Número de ocorrências');\n",
    "plt.show()\n"
   ]
  },
  {
   "cell_type": "code",
   "execution_count": 49,
   "metadata": {},
   "outputs": [],
   "source": [
    "#=======================================================================\n",
    "# filtrando os posts do alckmin\n",
    "#=======================================================================\n",
    "author_mask = (df_candidates['author'] == 'alckmin')\n",
    "\n",
    "df_alckmin = df_candidates[author_mask]"
   ]
  },
  {
   "cell_type": "code",
   "execution_count": null,
   "metadata": {},
   "outputs": [],
   "source": [
    "#=======================================================================\n",
    "# número de posts do alckmin\n",
    "#=======================================================================\n",
    "df_alckmin.count()"
   ]
  },
  {
   "cell_type": "code",
   "execution_count": 103,
   "metadata": {},
   "outputs": [
    {
     "name": "stdout",
     "output_type": "stream",
     "text": [
      "hoje : 1362\n",
      "paulo : 897\n",
      "estado : 828\n",
      "brasil : 736\n",
      "geraldo : 664\n",
      "mil : 579\n",
      "sp : 561\n",
      "obras : 539\n",
      "vai : 510\n",
      "grande : 467\n"
     ]
    },
    {
     "data": {
      "image/png": "[encoded data removed]",
      "text/plain": [
       "<Figure size 1152x576 with 1 Axes>"
      ]
     },
     "metadata": {
      "needs_background": "light"
     },
     "output_type": "display_data"
    }
   ],
   "source": [
    "#=======================================================================\n",
    "# visualização das top palavras do alckmin\n",
    "#=======================================================================\n",
    "\n",
    "count_vectorizer = CountVectorizer()\n",
    "words, word_values = get_top_n_words(n_top_words=10,\n",
    "                                     count_vectorizer=count_vectorizer, \n",
    "                                     text_data=df_alckmin['pre_processed_message'])\n",
    "\n",
    "for index in range(len(word_values)):\n",
    "    print('{0} : {1}'.format(str(words[index]),str(word_values[index])))\n",
    "    \n",
    "fig, ax = plt.subplots(figsize=(16,8))\n",
    "ax.bar(range(len(words)), word_values);\n",
    "ax.set_xticks(range(len(words)));\n",
    "ax.set_xticklabels(words, rotation='vertical');\n",
    "ax.set_title('Palavras com mais ocorrências (Geraldo Alckmin)');\n",
    "ax.set_xlabel('Palavra');\n",
    "ax.set_ylabel('Número de ocorrências');\n",
    "plt.show()\n"
   ]
  },
  {
   "cell_type": "code",
   "execution_count": 54,
   "metadata": {},
   "outputs": [],
   "source": [
    "#=======================================================================\n",
    "# filtrando os posts do amoedo\n",
    "#=======================================================================\n",
    "author_mask = (df_candidates['author'] == 'amoedo')\n",
    "\n",
    "df_amoedo = df_candidates[author_mask]"
   ]
  },
  {
   "cell_type": "code",
   "execution_count": 55,
   "metadata": {},
   "outputs": [
    {
     "data": {
      "text/plain": [
       "created_time             2249\n",
       "id                       2249\n",
       "pre_processed_message    2249\n",
       "message_min_processed    2249\n",
       "shares                   2249\n",
       "status_type              2249\n",
       "full_picture             2249\n",
       "reactions_like           2249\n",
       "reactions_haha           2249\n",
       "reactions_wow            2249\n",
       "reactions_sad            2249\n",
       "reactions_angry          2249\n",
       "reactions_love           2249\n",
       "has_textual_message      2249\n",
       "author                   2249\n",
       "dtype: int64"
      ]
     },
     "execution_count": 55,
     "metadata": {},
     "output_type": "execute_result"
    }
   ],
   "source": [
    "#=======================================================================\n",
    "# número de posts do amoedo\n",
    "#=======================================================================\n",
    "df_amoedo.count()"
   ]
  },
  {
   "cell_type": "code",
   "execution_count": 106,
   "metadata": {},
   "outputs": [
    {
     "name": "stdout",
     "output_type": "stream",
     "text": [
      "novo : 1393\n",
      "brasil : 788\n",
      "pais : 377\n",
      "governo : 373\n",
      "todos : 371\n",
      "ser : 349\n",
      "estado : 342\n",
      "cidadao : 328\n",
      "dinheiro : 299\n",
      "politica : 263\n"
     ]
    },
    {
     "data": {
      "image/png": "[encoded data removed]",
      "text/plain": [
       "<Figure size 1152x576 with 1 Axes>"
      ]
     },
     "metadata": {
      "needs_background": "light"
     },
     "output_type": "display_data"
    }
   ],
   "source": [
    "#=======================================================================\n",
    "# visualização das top palavras do amoedo\n",
    "#=======================================================================\n",
    "\n",
    "count_vectorizer = CountVectorizer()\n",
    "words, word_values = get_top_n_words(n_top_words=10,\n",
    "                                     count_vectorizer=count_vectorizer, \n",
    "                                     text_data=df_amoedo['pre_processed_message'])\n",
    "\n",
    "for index in range(len(word_values)):\n",
    "    print('{0} : {1}'.format(str(words[index]),str(word_values[index])))\n",
    "    \n",
    "fig, ax = plt.subplots(figsize=(16,8))\n",
    "ax.bar(range(len(words)), word_values);\n",
    "ax.set_xticks(range(len(words)));\n",
    "ax.set_xticklabels(words, rotation='vertical');\n",
    "ax.set_title('Palavras com mais ocorrências (João Amoedo)');\n",
    "ax.set_xlabel('Palavra');\n",
    "ax.set_ylabel('Número de ocorrências');\n",
    "plt.show()\n"
   ]
  },
  {
   "cell_type": "code",
   "execution_count": 107,
   "metadata": {},
   "outputs": [],
   "source": [
    "#=======================================================================\n",
    "# filtrando os posts do bolsonaro\n",
    "#=======================================================================\n",
    "author_mask = (df_candidates['author'] == 'bolsonaro')\n",
    "\n",
    "df_bolsonaro = df_candidates[author_mask]"
   ]
  },
  {
   "cell_type": "code",
   "execution_count": 85,
   "metadata": {},
   "outputs": [
    {
     "data": {
      "text/plain": [
       "created_time             3646\n",
       "id                       3646\n",
       "pre_processed_message    3646\n",
       "message_min_processed    3646\n",
       "shares                   3646\n",
       "status_type              3646\n",
       "full_picture             3646\n",
       "reactions_like           3646\n",
       "reactions_haha           3646\n",
       "reactions_wow            3646\n",
       "reactions_sad            3646\n",
       "reactions_angry          3646\n",
       "reactions_love           3646\n",
       "has_textual_message      3646\n",
       "author                   3646\n",
       "dtype: int64"
      ]
     },
     "execution_count": 85,
     "metadata": {},
     "output_type": "execute_result"
    }
   ],
   "source": [
    "#=======================================================================\n",
    "# contagem de posts do bolsonaro\n",
    "#=======================================================================\n",
    "df_bolsonaro.count()\n"
   ]
  },
  {
   "cell_type": "code",
   "execution_count": 100,
   "metadata": {},
   "outputs": [
    {
     "name": "stdout",
     "output_type": "stream",
     "text": [
      "bolsonaro : 1098\n",
      "brasil : 942\n",
      "jair : 441\n",
      "todos : 390\n",
      "pt : 349\n",
      "governo : 310\n",
      "obrigado : 260\n",
      "hoje : 256\n",
      "ministerio : 244\n",
      "presidente : 232\n"
     ]
    },
    {
     "data": {
      "image/png": "[encoded data removed]",
      "text/plain": [
       "<Figure size 1152x576 with 1 Axes>"
      ]
     },
     "metadata": {
      "needs_background": "light"
     },
     "output_type": "display_data"
    }
   ],
   "source": [
    "#=======================================================================\n",
    "# visualização das top palavras do bolsonaro\n",
    "#=======================================================================\n",
    "\n",
    "count_vectorizer = CountVectorizer()\n",
    "words, word_values = get_top_n_words(n_top_words=10,\n",
    "                                     count_vectorizer=count_vectorizer, \n",
    "                                     text_data=df_bolsonaro['pre_processed_message'])\n",
    "\n",
    "for index in range(len(word_values)):\n",
    "    print('{0} : {1}'.format(str(words[index]),str(word_values[index])))\n",
    "    \n",
    "fig, ax = plt.subplots(figsize=(16,8))\n",
    "ax.bar(range(len(words)), word_values);\n",
    "ax.set_xticks(range(len(words)));\n",
    "ax.set_xticklabels(words, rotation='vertical');\n",
    "ax.set_title('Palavras com mais ocorrências (Jair Bolsonaro)');\n",
    "ax.set_xlabel('Palavra');\n",
    "ax.set_ylabel('Número de ocorrências');\n",
    "plt.show()\n"
   ]
  },
  {
   "cell_type": "code",
   "execution_count": 108,
   "metadata": {},
   "outputs": [],
   "source": [
    "#=======================================================================\n",
    "# filtrando os posts do boulos\n",
    "#=======================================================================\n",
    "author_mask = (df_candidates['author'] == 'boulos')\n",
    "\n",
    "df_boulos = df_candidates[author_mask]"
   ]
  },
  {
   "cell_type": "code",
   "execution_count": 109,
   "metadata": {},
   "outputs": [
    {
     "data": {
      "text/plain": [
       "created_time             2785\n",
       "id                       2785\n",
       "pre_processed_message    2785\n",
       "message_min_processed    2785\n",
       "shares                   2785\n",
       "status_type              2785\n",
       "full_picture             2785\n",
       "reactions_like           2785\n",
       "reactions_haha           2785\n",
       "reactions_wow            2785\n",
       "reactions_sad            2785\n",
       "reactions_angry          2785\n",
       "reactions_love           2785\n",
       "has_textual_message      2785\n",
       "author                   2785\n",
       "dtype: int64"
      ]
     },
     "execution_count": 109,
     "metadata": {},
     "output_type": "execute_result"
    }
   ],
   "source": [
    "#=======================================================================\n",
    "# contagem de posts do boulos\n",
    "#=======================================================================\n",
    "df_boulos.count()\n"
   ]
  },
  {
   "cell_type": "code",
   "execution_count": 111,
   "metadata": {},
   "outputs": [
    {
     "name": "stdout",
     "output_type": "stream",
     "text": [
      "mtst : 530\n",
      "contra : 467\n",
      "povo : 402\n",
      "paulo : 376\n",
      "hoje : 362\n",
      "luta : 333\n",
      "dia : 319\n",
      "brasil : 309\n",
      "vamos : 277\n",
      "aovivo : 276\n"
     ]
    },
    {
     "data": {
      "image/png": "[encoded data removed]",
      "text/plain": [
       "<Figure size 1152x576 with 1 Axes>"
      ]
     },
     "metadata": {
      "needs_background": "light"
     },
     "output_type": "display_data"
    }
   ],
   "source": [
    "#=======================================================================\n",
    "# visualização das top palavras do boulos\n",
    "#=======================================================================\n",
    "\n",
    "count_vectorizer = CountVectorizer()\n",
    "words, word_values = get_top_n_words(n_top_words=10,\n",
    "                                     count_vectorizer=count_vectorizer, \n",
    "                                     text_data=df_boulos['pre_processed_message'])\n",
    "\n",
    "for index in range(len(word_values)):\n",
    "    print('{0} : {1}'.format(str(words[index]),str(word_values[index])))\n",
    "    \n",
    "fig, ax = plt.subplots(figsize=(16,8))\n",
    "ax.bar(range(len(words)), word_values);\n",
    "ax.set_xticks(range(len(words)));\n",
    "ax.set_xticklabels(words, rotation='vertical');\n",
    "ax.set_title('Palavras com mais ocorrências (Guilherme Boulos)');\n",
    "ax.set_xlabel('Palavra');\n",
    "ax.set_ylabel('Número de ocorrências');\n",
    "plt.show()"
   ]
  },
  {
   "cell_type": "code",
   "execution_count": 112,
   "metadata": {},
   "outputs": [],
   "source": [
    "#=======================================================================\n",
    "# filtrando os posts do ciro\n",
    "#=======================================================================\n",
    "author_mask = (df_candidates['author'] == 'ciro')\n",
    "\n",
    "df_ciro = df_candidates[author_mask]"
   ]
  },
  {
   "cell_type": "code",
   "execution_count": 113,
   "metadata": {},
   "outputs": [
    {
     "data": {
      "text/plain": [
       "created_time             1683\n",
       "id                       1683\n",
       "pre_processed_message    1683\n",
       "message_min_processed    1683\n",
       "shares                   1683\n",
       "status_type              1683\n",
       "full_picture             1683\n",
       "reactions_like           1683\n",
       "reactions_haha           1683\n",
       "reactions_wow            1683\n",
       "reactions_sad            1683\n",
       "reactions_angry          1683\n",
       "reactions_love           1683\n",
       "has_textual_message      1683\n",
       "author                   1683\n",
       "dtype: int64"
      ]
     },
     "execution_count": 113,
     "metadata": {},
     "output_type": "execute_result"
    }
   ],
   "source": [
    "#=======================================================================\n",
    "# contagem de posts do ciro\n",
    "#=======================================================================\n",
    "df_ciro.count()"
   ]
  },
  {
   "cell_type": "code",
   "execution_count": 114,
   "metadata": {},
   "outputs": [
    {
     "name": "stdout",
     "output_type": "stream",
     "text": [
      "ciro : 683\n",
      "brasil : 456\n",
      "aovivo : 265\n",
      "gomes : 230\n",
      "acompanhe : 226\n",
      "hoje : 180\n",
      "pdt : 160\n",
      "vamos : 144\n",
      "debate : 122\n",
      "pais : 121\n"
     ]
    },
    {
     "data": {
      "image/png": "[encoded data removed]",
      "text/plain": [
       "<Figure size 1152x576 with 1 Axes>"
      ]
     },
     "metadata": {
      "needs_background": "light"
     },
     "output_type": "display_data"
    }
   ],
   "source": [
    "#=======================================================================\n",
    "# visualização das top palavras do ciro\n",
    "#=======================================================================\n",
    "\n",
    "count_vectorizer = CountVectorizer()\n",
    "words, word_values = get_top_n_words(n_top_words=10,\n",
    "                                     count_vectorizer=count_vectorizer, \n",
    "                                     text_data=df_ciro['pre_processed_message'])\n",
    "\n",
    "for index in range(len(word_values)):\n",
    "    print('{0} : {1}'.format(str(words[index]),str(word_values[index])))\n",
    "    \n",
    "fig, ax = plt.subplots(figsize=(16,8))\n",
    "ax.bar(range(len(words)), word_values);\n",
    "ax.set_xticks(range(len(words)));\n",
    "ax.set_xticklabels(words, rotation='vertical');\n",
    "ax.set_title('Palavras com mais ocorrências (Ciro Gomes)');\n",
    "ax.set_xlabel('Palavra');\n",
    "ax.set_ylabel('Número de ocorrências');\n",
    "plt.show()"
   ]
  },
  {
   "cell_type": "code",
   "execution_count": 115,
   "metadata": {},
   "outputs": [],
   "source": [
    "#=======================================================================\n",
    "# filtrando os posts do haddad\n",
    "#=======================================================================\n",
    "author_mask = (df_candidates['author'] == 'haddad')\n",
    "\n",
    "df_haddad = df_candidates[author_mask]"
   ]
  },
  {
   "cell_type": "code",
   "execution_count": 116,
   "metadata": {},
   "outputs": [
    {
     "data": {
      "text/plain": [
       "created_time             1880\n",
       "id                       1880\n",
       "pre_processed_message    1880\n",
       "message_min_processed    1880\n",
       "shares                   1880\n",
       "status_type              1880\n",
       "full_picture             1880\n",
       "reactions_like           1880\n",
       "reactions_haha           1880\n",
       "reactions_wow            1880\n",
       "reactions_sad            1880\n",
       "reactions_angry          1880\n",
       "reactions_love           1880\n",
       "has_textual_message      1880\n",
       "author                   1880\n",
       "dtype: int64"
      ]
     },
     "execution_count": 116,
     "metadata": {},
     "output_type": "execute_result"
    }
   ],
   "source": [
    "#=======================================================================\n",
    "# contagem de posts do haddad\n",
    "#=======================================================================\n",
    "df_haddad.count()"
   ]
  },
  {
   "cell_type": "code",
   "execution_count": 117,
   "metadata": {},
   "outputs": [
    {
     "name": "stdout",
     "output_type": "stream",
     "text": [
      "haddad : 539\n",
      "paulo : 385\n",
      "fernando : 335\n",
      "cidade : 332\n",
      "lula : 303\n",
      "brasil : 191\n",
      "haddadpresidente : 169\n",
      "hoje : 160\n",
      "educacao : 150\n",
      "candidato : 135\n"
     ]
    },
    {
     "data": {
      "image/png": "[encoded data removed]",
      "text/plain": [
       "<Figure size 1152x576 with 1 Axes>"
      ]
     },
     "metadata": {
      "needs_background": "light"
     },
     "output_type": "display_data"
    }
   ],
   "source": [
    "#=======================================================================\n",
    "# visualização das top palavras do haddad\n",
    "#=======================================================================\n",
    "\n",
    "count_vectorizer = CountVectorizer()\n",
    "words, word_values = get_top_n_words(n_top_words=10,\n",
    "                                     count_vectorizer=count_vectorizer, \n",
    "                                     text_data=df_haddad['pre_processed_message'])\n",
    "\n",
    "for index in range(len(word_values)):\n",
    "    print('{0} : {1}'.format(str(words[index]),str(word_values[index])))\n",
    "    \n",
    "fig, ax = plt.subplots(figsize=(16,8))\n",
    "ax.bar(range(len(words)), word_values);\n",
    "ax.set_xticks(range(len(words)));\n",
    "ax.set_xticklabels(words, rotation='vertical');\n",
    "ax.set_title('Palavras com mais ocorrências (Fernando Haddad)');\n",
    "ax.set_xlabel('Palavra');\n",
    "ax.set_ylabel('Número de ocorrências');\n",
    "plt.show()"
   ]
  },
  {
   "cell_type": "code",
   "execution_count": 96,
   "metadata": {},
   "outputs": [],
   "source": [
    "#=======================================================================\n",
    "# filtrando os posts da marina\n",
    "#=======================================================================\n",
    "author_mask = (df_candidates['author'] == 'marina')\n",
    "\n",
    "df_marina = df_candidates[author_mask]"
   ]
  },
  {
   "cell_type": "code",
   "execution_count": 97,
   "metadata": {},
   "outputs": [
    {
     "data": {
      "text/plain": [
       "created_time             5044\n",
       "id                       5044\n",
       "pre_processed_message    5044\n",
       "message_min_processed    5044\n",
       "shares                   5044\n",
       "status_type              5044\n",
       "full_picture             5044\n",
       "reactions_like           5044\n",
       "reactions_haha           5044\n",
       "reactions_wow            5044\n",
       "reactions_sad            5044\n",
       "reactions_angry          5044\n",
       "reactions_love           5044\n",
       "has_textual_message      5044\n",
       "author                   5044\n",
       "dtype: int64"
      ]
     },
     "execution_count": 97,
     "metadata": {},
     "output_type": "execute_result"
    }
   ],
   "source": [
    "#=======================================================================\n",
    "# contagem de posts da marina\n",
    "#=======================================================================\n",
    "df_marina.count()"
   ]
  },
  {
   "cell_type": "code",
   "execution_count": 118,
   "metadata": {},
   "outputs": [
    {
     "name": "stdout",
     "output_type": "stream",
     "text": [
      "marina : 1447\n",
      "brasil : 1113\n",
      "rede : 1008\n",
      "silva : 902\n",
      "governo : 877\n",
      "pais : 733\n",
      "ser : 729\n",
      "politica : 683\n",
      "presidente : 624\n",
      "hoje : 616\n"
     ]
    },
    {
     "data": {
      "image/png": "[encoded data removed]",
      "text/plain": [
       "<Figure size 1152x576 with 1 Axes>"
      ]
     },
     "metadata": {
      "needs_background": "light"
     },
     "output_type": "display_data"
    }
   ],
   "source": [
    "#=======================================================================\n",
    "# visualização das top palavras da marina\n",
    "#=======================================================================\n",
    "\n",
    "count_vectorizer = CountVectorizer()\n",
    "words, word_values = get_top_n_words(n_top_words=10,\n",
    "                                     count_vectorizer=count_vectorizer, \n",
    "                                     text_data=df_marina['pre_processed_message'])\n",
    "\n",
    "for index in range(len(word_values)):\n",
    "    print('{0} : {1}'.format(str(words[index]),str(word_values[index])))\n",
    "    \n",
    "fig, ax = plt.subplots(figsize=(16,8))\n",
    "ax.bar(range(len(words)), word_values);\n",
    "ax.set_xticks(range(len(words)));\n",
    "ax.set_xticklabels(words, rotation='vertical');\n",
    "ax.set_title('Palavras com mais ocorrências (Marina Silva)');\n",
    "ax.set_xlabel('Palavra');\n",
    "ax.set_ylabel('Número de ocorrências');\n",
    "plt.show()"
   ]
  },
  {
   "cell_type": "code",
   "execution_count": null,
   "metadata": {},
   "outputs": [],
   "source": []
  }
 ],
 "metadata": {
  "kernelspec": {
   "display_name": "Python 3",
   "language": "python",
   "name": "python3"
  },
  "language_info": {
   "codemirror_mode": {
    "name": "ipython",
    "version": 3
   },
   "file_extension": ".py",
   "mimetype": "text/x-python",
   "name": "python",
   "nbconvert_exporter": "python",
   "pygments_lexer": "ipython3",
   "version": "3.7.3"
  }
 },
 "nbformat": 4,
 "nbformat_minor": 4
}
